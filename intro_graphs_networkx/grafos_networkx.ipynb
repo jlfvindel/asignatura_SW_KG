{
  "cells": [
    {
      "cell_type": "markdown",
      "id": "0617e868",
      "metadata": {
        "id": "0617e868"
      },
      "source": [
        "[![Open In Colab](https://colab.research.google.com/assets/colab-badge.svg)](https://colab.research.google.com/github/jlfvindel/asignatura_SW_KG/blob/main/intro_graphs_networkx/grafos_networkx.ipynb)"
      ]
    },
    {
      "cell_type": "markdown",
      "id": "edf04ad1",
      "metadata": {
        "id": "edf04ad1"
      },
      "source": [
        "# Resumen\n",
        "Ejemplo de conversión de datos tabulares a un grafo:\n",
        "+ **Datos -> Tabla**. Desde un objeto Json a un DataFrame\n",
        "+ **Tabla -> Ternas**. Hacia una lista de relaciones atómicas `(nodo1, enlace, nodo2)`.\n",
        "+ **Ternas -> Grafo**. Hacia un grafo NetworkxY, con facilidades de análisis y visualización"
      ]
    },
    {
      "cell_type": "markdown",
      "source": [
        "# Inicialización del cuaderno\n",
        "Colapse la sección para ejecutar todas sus celdas en un solo paso. O depliege para inspeccionarlas y ejecutarlas individualmente."
      ],
      "metadata": {
        "id": "uviQYyigCQah"
      },
      "id": "uviQYyigCQah"
    },
    {
      "cell_type": "markdown",
      "source": [
        "## Paquetes: instalación e importación"
      ],
      "metadata": {
        "id": "W7D5rW2iDwmY"
      },
      "id": "W7D5rW2iDwmY"
    },
    {
      "cell_type": "code",
      "source": [
        "#Comente %%capture para ver informes del proceso\n",
        "%%capture\n",
        "!pip install networkx\n",
        "!apt install graphviz graphviz-dev\n",
        "!pip install pygraphviz\n",
        "!pip install graphviz\n",
        "!pip install pyvis\n"
      ],
      "metadata": {
        "id": "h17QzW60CuO0"
      },
      "id": "h17QzW60CuO0",
      "execution_count": 1,
      "outputs": []
    },
    {
      "cell_type": "code",
      "source": [
        "%%capture\n",
        "# Datos json -> dataframe\n",
        "import json\n",
        "import pandas as pd\n",
        "\n",
        "# Generación de grafos\n",
        "import networkx as nx\n",
        "\n",
        "# Visualización de grafos\n",
        "import matplotlib.pyplot as plt\n",
        "import pygraphviz as pgv\n",
        "import graphviz as gv\n",
        "\n",
        "from pyvis.network import Network\n",
        "from IPython.display import display, HTML"
      ],
      "metadata": {
        "id": "PVmMcOn-C2-a"
      },
      "id": "PVmMcOn-C2-a",
      "execution_count": 2,
      "outputs": []
    },
    {
      "cell_type": "markdown",
      "source": [
        "## Funciones: datos json -> tabla -> tuplas"
      ],
      "metadata": {
        "id": "4EaX-Ro-E6OW"
      },
      "id": "4EaX-Ro-E6OW"
    },
    {
      "cell_type": "code",
      "source": [
        "# DATOS. Ejemplo simplificado. En este caso, como lista de diccionarios. \n",
        "# Nombres como identificadores. Datos relacionales. Juan tiene dos registros.\n",
        "datos_ej0 = [ \n",
        "    {'nombre':'Marcos', 'año_nacimiento':'1962', 'lugar_nacimiento':'Salamanca', 'tiene_madre':'Belén', 'tiene_padre':'Ángel'},\n",
        "    {'nombre':'Arturo', 'año_nacimiento':'1966', 'tiene_madre':'Belén', 'tiene_padre':'Ángel'},\n",
        "    {'nombre':'Pedro', 'año_nacimiento':'1979', 'lugar_nacimiento':'Badajoz', 'tiene_madre':'Inés', 'tiene_padre':'Pablo'},\n",
        "    {'nombre':'Luis', 'año_nacimiento':'1984', 'lugar_nacimiento':'Madrid', 'tiene_madre':'Isabel', 'tiene_padre':'Jorge'},\n",
        "    {'nombre':'Ana', 'año_nacimiento':'1982', 'lugar_nacimiento':'Madrid', 'tiene_madre':'Isabel', 'tiene_padre':'Jorge'},\n",
        "    {'nombre':'Sonia', 'lugar_nacimiento':'Valencia', 'tiene_madre':'María', 'tiene_padre':'Fernando'},\n",
        "    {'nombre':'Begoña', 'año_nacimiento':'2010', 'lugar_nacimiento':'Madrid', 'tiene_madre':'Sonia', 'tiene_padre':'Pedro'},\n",
        "    {'nombre':'Marta', 'año_nacimiento':'2015', 'lugar_nacimiento':'Soria', 'tiene_madre':'Ana', 'tiene_padre':'Arturo'},\n",
        "    {'nombre':'Juan', 'año_nacimiento':'2020', 'lugar_nacimiento':'Teruel', 'tiene_madre':'Ana'},\n",
        "    {'nombre':'Juan', 'lugar_nacimiento':'Soria', 'tiene_padre':'Pedro'}]\n",
        "\n",
        "datos = datos_ej0\n",
        "\n",
        "# Impresión de datos, para este ejemplo \n",
        "def imprime_datos(datos):\n",
        "    print(json.dumps(datos, indent=2,  ensure_ascii=False))\n",
        "\n",
        "# TABLA. DataFrame. En este caso, datos con estructura tabular, quizá con celdas vacías y con filas repetidas.\n",
        "# Para otros formatos de datos: pd.DataFrame.from_(dict|records), pd.read_(csv|xml|json), pd.json_normalize ...\n",
        "def datos_a_tabla(datos):\n",
        "    df = pd.DataFrame.from_records(datos_ej0)\n",
        "    return df\n",
        "\n",
        "def imprime_tabla(df):\n",
        "    display(df)\n",
        "\n",
        "# TUPLAS: lista de 3 tuplas.     \n",
        "def tabla_a_tuplas3(df,col_idx = 0):\n",
        "    '''\n",
        "    Dataframe a 3tuplas (sujeto_celda_fila_X, cabecera_columna_Y, valor_celda_X_Y)\n",
        "    col_idx=N si los sujetos de la 3tupla no están en la columna 0 sino en la N\n",
        "    '''\n",
        "    columnas = df.columns.values.tolist()\n",
        "    columna_idx = columnas[col_idx]\n",
        "    columnas.remove(columna_idx)\n",
        "\n",
        "    ternas = []\n",
        "    for fila in df.index:\n",
        "        for columna in columnas:\n",
        "            sujeto_t = df[columna_idx][fila]\n",
        "            predicado_t = columna\n",
        "            objeto_t = df[columna][fila]\n",
        "            if pd.notnull(objeto_t):\n",
        "                terna = (sujeto_t, predicado_t, objeto_t)\n",
        "                ternas.append(terna)\n",
        "    return ternas\n",
        "\n",
        "def imprime_tuplas3(tuplas3):\n",
        "    display(tuplas3)"
      ],
      "metadata": {
        "id": "JgwuKloNFGq6"
      },
      "id": "JgwuKloNFGq6",
      "execution_count": 3,
      "outputs": []
    },
    {
      "cell_type": "markdown",
      "source": [
        "## Funciones: tuplas -> grafo (ver, analizar)"
      ],
      "metadata": {
        "id": "bXqziL_0GTeC"
      },
      "id": "bXqziL_0GTeC"
    },
    {
      "cell_type": "code",
      "source": [
        "# GRAFO: creación\n",
        "def tuplas3_a_grafo(tuplas3):\n",
        "    G = nx.DiGraph()\n",
        "    for tupla in tuplas3:\n",
        "        #G.add_node(terna[0])\n",
        "        #G.add_node(terna[2])\n",
        "        G.add_edge(tupla[0], tupla[2], label=tupla[1])\n",
        "    return G\n",
        "\n",
        "def describe_grafo(G):\n",
        "    print(f'Dirigido: {nx.is_directed(G)}')\n",
        "    print(f'Número de nodos: {nx.number_of_nodes(G)}. Número de aristas: {nx.number_of_edges(G)}')\n",
        "    print(f'Números de nodos con grado 0, 1, 2, ... respectivamente: {nx.degree_histogram(G)}')\n",
        "\n",
        "# GRAFO: análisis\n",
        "def predecesores_nodos(G,lista_nodos):\n",
        "    '''Ej: lista_nodos = [n1,n2] -> [[n3,n4],[n5,n6,n7]] = sus predecesores respectivos.\n",
        "       Se retorna como lista aplanada [n3,n4,n5,n6,n7]'''\n",
        "    preds_respectivos = [list(G.predecessors(nodo)) for nodo in lista_nodos]\n",
        "    preds_aplanada = [nodo for sublista in preds_respectivos for nodo in sublista]\n",
        "    return preds_aplanada\n",
        "\n",
        "def sucesores_nodos(G,lista_nodos):\n",
        "    '''Ej: lista_nodos = [n1,n2] -> [[n3,n4],[n5,n6,n7]] = sus sucesores respectivos.\n",
        "       Se retorna como lista aplanada [n3,n4,n5,n6,n7]'''\n",
        "    sucs_respectivos = [list(G.successors(nodo)) for nodo in lista_nodos]\n",
        "    sucs_aplanada = [nodo for sublista in sucs_respectivos for nodo in sublista]\n",
        "    return sucs_aplanada\n",
        "\n",
        "def subgrafo_nodos(G,lista_nodos):\n",
        "    '''lista_nodos -> subgrafo de G con nodos lista_nodos, sus predecesores y sus sucesores. Y\n",
        "       con los ejes entre ellos que existían en G'''\n",
        "    fusionados_sin_repeticiones = set(lista_nodos + predecesores_nodos(G,lista_nodos) + sucesores_nodos(G,lista_nodos))\n",
        "    nodos_en_subgrafo = list(fusionados_sin_repeticiones)\n",
        "    subgrafo = nx.subgraph(G,nodos_en_subgrafo)\n",
        "    return subgrafo\n",
        "\n",
        "def nodos_grado_max(G):\n",
        "    '''G -> [n1,...,nk], nodos con el grado máximo (grado_entrada + grado_salida en digrafos)'''\n",
        "    histograma_grados = nx.degree_histogram(G)\n",
        "    grado_max = len(histograma_grados) - 1\n",
        "    lista_nodos_max = [nodo for nodo, grado in nx.degree(G) if grado == grado_max]\n",
        "    return lista_nodos_max\n",
        "\n",
        "# GRAFO: visualización\n",
        "def visualiza_grafo_matplotlib(G):\n",
        "    # Admite muchas otras configuraciones\n",
        "    nx.draw_networkx(G, pos=nx.spring_layout(G), with_labels=True)\n",
        "    \n",
        "def visualiza_grafo_graphviz(G):\n",
        "    '''grafo g de networkx -> grafo A de pygraphviz, con texto del grafo en formato .dot en A.string()\n",
        "       se prefiere usar finalmente el renderizado del paquete graphviz, que lee el string de pygraphviz'''\n",
        "    A = nx.nx_agraph.to_agraph(G)\n",
        "    return gv.Source(A.string(),format=\"svg\")\n",
        "\n",
        "def visualiza_grafo_pyvis(G,nombre_resultado=\"grafo_pyvis.html\"):\n",
        "    pyvis_g = Network(notebook=True, cdn_resources=\"remote\")\n",
        "    pyvis_g.from_nx(G)\n",
        "    pyvis_g.show(nombre_resultado)\n",
        "    display(HTML(nombre_resultado))"
      ],
      "metadata": {
        "id": "FhrPnJrBGCbq"
      },
      "id": "FhrPnJrBGCbq",
      "execution_count": 27,
      "outputs": []
    },
    {
      "cell_type": "markdown",
      "id": "0703db43",
      "metadata": {
        "id": "0703db43"
      },
      "source": [
        "# Construcción del grafo"
      ]
    },
    {
      "cell_type": "markdown",
      "id": "f1672581",
      "metadata": {
        "id": "f1672581"
      },
      "source": [
        "### Carga de datos\n",
        "Relaciones entre personas y con ciudades y años de nacimiento."
      ]
    },
    {
      "cell_type": "code",
      "execution_count": null,
      "id": "7f272182",
      "metadata": {
        "id": "7f272182"
      },
      "outputs": [],
      "source": [
        "datos = datos_ej0\n",
        "imprime_datos(datos)"
      ]
    },
    {
      "cell_type": "markdown",
      "id": "986a62fc",
      "metadata": {
        "id": "986a62fc"
      },
      "source": [
        "### Datos a tabla\n",
        "Se aprecia que faltan algunos datos y que hay alguna fila duplicada (con dos lugares de nacimiento distintos)."
      ]
    },
    {
      "cell_type": "code",
      "execution_count": null,
      "id": "bf134c5f",
      "metadata": {
        "id": "bf134c5f"
      },
      "outputs": [],
      "source": [
        "tabla = datos_a_tabla(datos)\n",
        "imprime_tabla(tabla)"
      ]
    },
    {
      "cell_type": "markdown",
      "id": "529ead1c",
      "metadata": {
        "id": "529ead1c"
      },
      "source": [
        "### Tabla a tuplas\n",
        "Cada fila se desglosa en varias 3-tuplas independientes."
      ]
    },
    {
      "cell_type": "code",
      "execution_count": null,
      "id": "5536610a",
      "metadata": {
        "id": "5536610a"
      },
      "outputs": [],
      "source": [
        "tuplas3 = tabla_a_tuplas3(tabla)\n",
        "imprime_tuplas3(tuplas3)"
      ]
    },
    {
      "cell_type": "markdown",
      "id": "4f21cb2b",
      "metadata": {
        "id": "4f21cb2b"
      },
      "source": [
        "### Ternas a grafo\n",
        "Se crea [un grafo Networkx](https://networkx.org/documentation/stable/reference/introduction.html) y se describe usando [funciones de análisis](https://networkx.org/documentation/stable/reference/functions.html) predefinidas."
      ]
    },
    {
      "cell_type": "code",
      "execution_count": 8,
      "id": "ec89647e",
      "metadata": {
        "scrolled": true,
        "id": "ec89647e",
        "outputId": "1adbe9a7-50ab-4d32-fb96-eb16821870dd",
        "colab": {
          "base_uri": "https://localhost:8080/"
        }
      },
      "outputs": [
        {
          "output_type": "stream",
          "name": "stdout",
          "text": [
            "Dirigido: True\n",
            "Número de nodos: 31. Número de aristas: 35\n",
            "Números de nodos con grado 0, 1, 2, ... respectivamente: [0, 16, 5, 1, 6, 1, 2]\n"
          ]
        }
      ],
      "source": [
        "grafo = tuplas3_a_grafo(tuplas3)\n",
        "describe_grafo(grafo)"
      ]
    },
    {
      "cell_type": "markdown",
      "id": "1fb7335a",
      "metadata": {
        "id": "1fb7335a"
      },
      "source": [
        "# Visualización del grafo\n",
        "Hay funciones de conversión de objetos Networkx a código Matplotlib o a grafos en lenguaje .dot (Graphviz) o latex (TikZ). Y, una vez convertidos, [se aprovecha las facilidades de visualización](https://networkx.org/documentation/stable/reference/drawing.html) del respectivo formato final."
      ]
    },
    {
      "cell_type": "code",
      "execution_count": null,
      "id": "ac0bcaf0",
      "metadata": {
        "id": "ac0bcaf0"
      },
      "outputs": [],
      "source": [
        "visualiza_grafo_matplotlib(grafo)"
      ]
    },
    {
      "cell_type": "code",
      "execution_count": 28,
      "id": "fc32666a",
      "metadata": {
        "scrolled": true,
        "id": "fc32666a",
        "collapsed": true,
        "outputId": "1d1fc345-8c7d-484e-ac52-ac9894cdfe5a",
        "colab": {
          "base_uri": "https://localhost:8080/",
          "height": 332
        }
      },
      "outputs": [
        {
          "output_type": "execute_result",
          "data": {
            "text/plain": [
              "<graphviz.files.Source at 0x7f0b946315b0>"
            ],
            "image/svg+xml": "<?xml version=\"1.0\" encoding=\"UTF-8\" standalone=\"no\"?>\n<!DOCTYPE svg PUBLIC \"-//W3C//DTD SVG 1.1//EN\"\n \"http://www.w3.org/Graphics/SVG/1.1/DTD/svg11.dtd\">\n<!-- Generated by graphviz version 2.43.0 (0)\n -->\n<!-- Pages: 1 -->\n<svg width=\"2253pt\" height=\"218pt\"\n viewBox=\"0.00 0.00 2252.60 218.00\" xmlns=\"http://www.w3.org/2000/svg\" xmlns:xlink=\"http://www.w3.org/1999/xlink\">\n<g id=\"graph0\" class=\"graph\" transform=\"scale(1 1) rotate(0) translate(4 214)\">\n<polygon fill=\"white\" stroke=\"transparent\" points=\"-4,4 -4,-214 2248.6,-214 2248.6,4 -4,4\"/>\n<!-- Marcos -->\n<g id=\"node1\" class=\"node\">\n<title>Marcos</title>\n<ellipse fill=\"none\" stroke=\"black\" cx=\"199.6\" cy=\"-105\" rx=\"37.89\" ry=\"18\"/>\n<text text-anchor=\"middle\" x=\"199.6\" y=\"-101.3\" font-family=\"Times,serif\" font-size=\"14.00\">Marcos</text>\n</g>\n<!-- 1962 -->\n<g id=\"node2\" class=\"node\">\n<title>1962</title>\n<ellipse fill=\"none\" stroke=\"black\" cx=\"28.6\" cy=\"-18\" rx=\"28.7\" ry=\"18\"/>\n<text text-anchor=\"middle\" x=\"28.6\" y=\"-14.3\" font-family=\"Times,serif\" font-size=\"14.00\">1962</text>\n</g>\n<!-- Marcos&#45;&gt;1962 -->\n<g id=\"edge1\" class=\"edge\">\n<title>Marcos&#45;&gt;1962</title>\n<path fill=\"none\" stroke=\"black\" d=\"M163.3,-99.98C123.1,-94.83 61.69,-84.65 44.6,-69 38.1,-63.05 34.23,-54.46 31.92,-46.08\"/>\n<polygon fill=\"black\" stroke=\"black\" points=\"35.32,-45.2 29.82,-36.14 28.47,-46.65 35.32,-45.2\"/>\n<text text-anchor=\"middle\" x=\"88.6\" y=\"-57.8\" font-family=\"Times,serif\" font-size=\"14.00\">año_nacimiento</text>\n</g>\n<!-- Salamanca -->\n<g id=\"node3\" class=\"node\">\n<title>Salamanca</title>\n<ellipse fill=\"none\" stroke=\"black\" cx=\"139.6\" cy=\"-18\" rx=\"49.29\" ry=\"18\"/>\n<text text-anchor=\"middle\" x=\"139.6\" y=\"-14.3\" font-family=\"Times,serif\" font-size=\"14.00\">Salamanca</text>\n</g>\n<!-- Marcos&#45;&gt;Salamanca -->\n<g id=\"edge2\" class=\"edge\">\n<title>Marcos&#45;&gt;Salamanca</title>\n<path fill=\"none\" stroke=\"black\" d=\"M170.04,-93.73C158.8,-88.23 147.13,-80.22 140.6,-69 136.69,-62.3 135.39,-54.18 135.35,-46.45\"/>\n<polygon fill=\"black\" stroke=\"black\" points=\"138.85,-46.52 135.96,-36.33 131.87,-46.1 138.85,-46.52\"/>\n<text text-anchor=\"middle\" x=\"188.6\" y=\"-57.8\" font-family=\"Times,serif\" font-size=\"14.00\">lugar_nacimiento</text>\n</g>\n<!-- Belén -->\n<g id=\"node4\" class=\"node\">\n<title>Belén</title>\n<ellipse fill=\"none\" stroke=\"black\" cx=\"347.6\" cy=\"-18\" rx=\"31.4\" ry=\"18\"/>\n<text text-anchor=\"middle\" x=\"347.6\" y=\"-14.3\" font-family=\"Times,serif\" font-size=\"14.00\">Belén</text>\n</g>\n<!-- Marcos&#45;&gt;Belén -->\n<g id=\"edge3\" class=\"edge\">\n<title>Marcos&#45;&gt;Belén</title>\n<path fill=\"none\" stroke=\"black\" d=\"M215.34,-88.48C226.87,-77.75 243.28,-63.71 259.6,-54 275.51,-44.53 294.46,-36.62 310.68,-30.73\"/>\n<polygon fill=\"black\" stroke=\"black\" points=\"312.11,-33.94 320.38,-27.33 309.79,-27.33 312.11,-33.94\"/>\n<text text-anchor=\"middle\" x=\"293.6\" y=\"-57.8\" font-family=\"Times,serif\" font-size=\"14.00\">tiene_madre</text>\n</g>\n<!-- Ángel -->\n<g id=\"node5\" class=\"node\">\n<title>Ángel</title>\n<ellipse fill=\"none\" stroke=\"black\" cx=\"478.6\" cy=\"-18\" rx=\"32.49\" ry=\"18\"/>\n<text text-anchor=\"middle\" x=\"478.6\" y=\"-14.3\" font-family=\"Times,serif\" font-size=\"14.00\">Ángel</text>\n</g>\n<!-- Marcos&#45;&gt;Ángel -->\n<g id=\"edge4\" class=\"edge\">\n<title>Marcos&#45;&gt;Ángel</title>\n<path fill=\"none\" stroke=\"black\" d=\"M233.87,-97.31C260.15,-91.54 296.98,-82.08 327.6,-69 339.51,-63.91 340.69,-59.11 352.6,-54 380.37,-42.07 413.34,-33.08 438.59,-27.2\"/>\n<polygon fill=\"black\" stroke=\"black\" points=\"439.57,-30.57 448.55,-24.95 438.02,-23.74 439.57,-30.57\"/>\n<text text-anchor=\"middle\" x=\"384.6\" y=\"-57.8\" font-family=\"Times,serif\" font-size=\"14.00\">tiene_padre</text>\n</g>\n<!-- Arturo -->\n<g id=\"node6\" class=\"node\">\n<title>Arturo</title>\n<ellipse fill=\"none\" stroke=\"black\" cx=\"614.6\" cy=\"-105\" rx=\"34.39\" ry=\"18\"/>\n<text text-anchor=\"middle\" x=\"614.6\" y=\"-101.3\" font-family=\"Times,serif\" font-size=\"14.00\">Arturo</text>\n</g>\n<!-- Arturo&#45;&gt;Belén -->\n<g id=\"edge5\" class=\"edge\">\n<title>Arturo&#45;&gt;Belén</title>\n<path fill=\"none\" stroke=\"black\" d=\"M588.99,-92.79C583.34,-90.62 577.33,-88.55 571.6,-87 520.38,-73.16 504.34,-84.48 453.6,-69 438.95,-64.53 404.88,-48.03 379.3,-35.2\"/>\n<polygon fill=\"black\" stroke=\"black\" points=\"380.81,-32.04 370.31,-30.66 377.66,-38.29 380.81,-32.04\"/>\n<text text-anchor=\"middle\" x=\"487.6\" y=\"-57.8\" font-family=\"Times,serif\" font-size=\"14.00\">tiene_madre</text>\n</g>\n<!-- Arturo&#45;&gt;Ángel -->\n<g id=\"edge6\" class=\"edge\">\n<title>Arturo&#45;&gt;Ángel</title>\n<path fill=\"none\" stroke=\"black\" d=\"M589.85,-92.44C576.72,-86.02 560.48,-77.6 546.6,-69 532.12,-60.03 516.78,-48.91 504.34,-39.43\"/>\n<polygon fill=\"black\" stroke=\"black\" points=\"506.29,-36.51 496.24,-33.17 502.02,-42.05 506.29,-36.51\"/>\n<text text-anchor=\"middle\" x=\"578.6\" y=\"-57.8\" font-family=\"Times,serif\" font-size=\"14.00\">tiene_padre</text>\n</g>\n<!-- 1966 -->\n<g id=\"node7\" class=\"node\">\n<title>1966</title>\n<ellipse fill=\"none\" stroke=\"black\" cx=\"614.6\" cy=\"-18\" rx=\"28.7\" ry=\"18\"/>\n<text text-anchor=\"middle\" x=\"614.6\" y=\"-14.3\" font-family=\"Times,serif\" font-size=\"14.00\">1966</text>\n</g>\n<!-- Arturo&#45;&gt;1966 -->\n<g id=\"edge7\" class=\"edge\">\n<title>Arturo&#45;&gt;1966</title>\n<path fill=\"none\" stroke=\"black\" d=\"M614.6,-86.8C614.6,-75.16 614.6,-59.55 614.6,-46.24\"/>\n<polygon fill=\"black\" stroke=\"black\" points=\"618.1,-46.18 614.6,-36.18 611.1,-46.18 618.1,-46.18\"/>\n<text text-anchor=\"middle\" x=\"658.6\" y=\"-57.8\" font-family=\"Times,serif\" font-size=\"14.00\">año_nacimiento</text>\n</g>\n<!-- Pedro -->\n<g id=\"node8\" class=\"node\">\n<title>Pedro</title>\n<ellipse fill=\"none\" stroke=\"black\" cx=\"1678.6\" cy=\"-105\" rx=\"31.4\" ry=\"18\"/>\n<text text-anchor=\"middle\" x=\"1678.6\" y=\"-101.3\" font-family=\"Times,serif\" font-size=\"14.00\">Pedro</text>\n</g>\n<!-- 1979 -->\n<g id=\"node9\" class=\"node\">\n<title>1979</title>\n<ellipse fill=\"none\" stroke=\"black\" cx=\"1566.6\" cy=\"-18\" rx=\"28.7\" ry=\"18\"/>\n<text text-anchor=\"middle\" x=\"1566.6\" y=\"-14.3\" font-family=\"Times,serif\" font-size=\"14.00\">1979</text>\n</g>\n<!-- Pedro&#45;&gt;1979 -->\n<g id=\"edge8\" class=\"edge\">\n<title>Pedro&#45;&gt;1979</title>\n<path fill=\"none\" stroke=\"black\" d=\"M1652.9,-94.28C1646.59,-91.9 1639.85,-89.35 1633.6,-87 1612.27,-78.97 1601.74,-85.08 1585.6,-69 1579.33,-62.76 1575.09,-54.24 1572.25,-46\"/>\n<polygon fill=\"black\" stroke=\"black\" points=\"1575.57,-44.89 1569.42,-36.26 1568.85,-46.84 1575.57,-44.89\"/>\n<text text-anchor=\"middle\" x=\"1629.6\" y=\"-57.8\" font-family=\"Times,serif\" font-size=\"14.00\">año_nacimiento</text>\n</g>\n<!-- Badajoz -->\n<g id=\"node10\" class=\"node\">\n<title>Badajoz</title>\n<ellipse fill=\"none\" stroke=\"black\" cx=\"1677.6\" cy=\"-18\" rx=\"39.79\" ry=\"18\"/>\n<text text-anchor=\"middle\" x=\"1677.6\" y=\"-14.3\" font-family=\"Times,serif\" font-size=\"14.00\">Badajoz</text>\n</g>\n<!-- Pedro&#45;&gt;Badajoz -->\n<g id=\"edge9\" class=\"edge\">\n<title>Pedro&#45;&gt;Badajoz</title>\n<path fill=\"none\" stroke=\"black\" d=\"M1678.4,-86.8C1678.26,-75.16 1678.07,-59.55 1677.92,-46.24\"/>\n<polygon fill=\"black\" stroke=\"black\" points=\"1681.42,-46.13 1677.8,-36.18 1674.42,-46.22 1681.42,-46.13\"/>\n<text text-anchor=\"middle\" x=\"1725.6\" y=\"-57.8\" font-family=\"Times,serif\" font-size=\"14.00\">lugar_nacimiento</text>\n</g>\n<!-- Inés -->\n<g id=\"node11\" class=\"node\">\n<title>Inés</title>\n<ellipse fill=\"none\" stroke=\"black\" cx=\"1796.6\" cy=\"-18\" rx=\"27\" ry=\"18\"/>\n<text text-anchor=\"middle\" x=\"1796.6\" y=\"-14.3\" font-family=\"Times,serif\" font-size=\"14.00\">Inés</text>\n</g>\n<!-- Pedro&#45;&gt;Inés -->\n<g id=\"edge10\" class=\"edge\">\n<title>Pedro&#45;&gt;Inés</title>\n<path fill=\"none\" stroke=\"black\" d=\"M1704.6,-94.8C1732.56,-84.86 1773.24,-70.27 1774.6,-69 1781.36,-62.66 1786.17,-53.87 1789.53,-45.43\"/>\n<polygon fill=\"black\" stroke=\"black\" points=\"1792.88,-46.44 1792.83,-35.85 1786.26,-44.16 1792.88,-46.44\"/>\n<text text-anchor=\"middle\" x=\"1818.6\" y=\"-57.8\" font-family=\"Times,serif\" font-size=\"14.00\">tiene_madre</text>\n</g>\n<!-- Pablo -->\n<g id=\"node12\" class=\"node\">\n<title>Pablo</title>\n<ellipse fill=\"none\" stroke=\"black\" cx=\"1887.6\" cy=\"-18\" rx=\"30.59\" ry=\"18\"/>\n<text text-anchor=\"middle\" x=\"1887.6\" y=\"-14.3\" font-family=\"Times,serif\" font-size=\"14.00\">Pablo</text>\n</g>\n<!-- Pedro&#45;&gt;Pablo -->\n<g id=\"edge11\" class=\"edge\">\n<title>Pedro&#45;&gt;Pablo</title>\n<path fill=\"none\" stroke=\"black\" d=\"M1703.75,-94.22C1711.32,-91.56 1719.72,-88.9 1727.6,-87 1783.88,-73.45 1808.09,-100.59 1856.6,-69 1865.49,-63.21 1872.27,-53.88 1877.19,-44.84\"/>\n<polygon fill=\"black\" stroke=\"black\" points=\"1880.42,-46.21 1881.65,-35.69 1874.12,-43.14 1880.42,-46.21\"/>\n<text text-anchor=\"middle\" x=\"1902.6\" y=\"-57.8\" font-family=\"Times,serif\" font-size=\"14.00\">tiene_padre</text>\n</g>\n<!-- Luis -->\n<g id=\"node13\" class=\"node\">\n<title>Luis</title>\n<ellipse fill=\"none\" stroke=\"black\" cx=\"882.6\" cy=\"-105\" rx=\"27\" ry=\"18\"/>\n<text text-anchor=\"middle\" x=\"882.6\" y=\"-101.3\" font-family=\"Times,serif\" font-size=\"14.00\">Luis</text>\n</g>\n<!-- 1984 -->\n<g id=\"node14\" class=\"node\">\n<title>1984</title>\n<ellipse fill=\"none\" stroke=\"black\" cx=\"725.6\" cy=\"-18\" rx=\"28.7\" ry=\"18\"/>\n<text text-anchor=\"middle\" x=\"725.6\" y=\"-14.3\" font-family=\"Times,serif\" font-size=\"14.00\">1984</text>\n</g>\n<!-- Luis&#45;&gt;1984 -->\n<g id=\"edge12\" class=\"edge\">\n<title>Luis&#45;&gt;1984</title>\n<path fill=\"none\" stroke=\"black\" d=\"M855.6,-104.55C824.48,-103.71 773.66,-97.59 742.6,-69 736.08,-63 732.05,-54.4 729.58,-46.02\"/>\n<polygon fill=\"black\" stroke=\"black\" points=\"732.94,-45.03 727.25,-36.09 726.13,-46.63 732.94,-45.03\"/>\n<text text-anchor=\"middle\" x=\"786.6\" y=\"-57.8\" font-family=\"Times,serif\" font-size=\"14.00\">año_nacimiento</text>\n</g>\n<!-- Madrid -->\n<g id=\"node15\" class=\"node\">\n<title>Madrid</title>\n<ellipse fill=\"none\" stroke=\"black\" cx=\"1311.6\" cy=\"-18\" rx=\"37.09\" ry=\"18\"/>\n<text text-anchor=\"middle\" x=\"1311.6\" y=\"-14.3\" font-family=\"Times,serif\" font-size=\"14.00\">Madrid</text>\n</g>\n<!-- Luis&#45;&gt;Madrid -->\n<g id=\"edge13\" class=\"edge\">\n<title>Luis&#45;&gt;Madrid</title>\n<path fill=\"none\" stroke=\"black\" d=\"M903.78,-93.65C909.75,-91.11 916.32,-88.65 922.6,-87 992.24,-68.73 1017,-96.36 1083.6,-69 1093.55,-64.91 1092.76,-58.36 1102.6,-54 1154.91,-30.82 1220.8,-22.89 1264.47,-20.23\"/>\n<polygon fill=\"black\" stroke=\"black\" points=\"1264.72,-23.72 1274.52,-19.69 1264.34,-16.73 1264.72,-23.72\"/>\n<text text-anchor=\"middle\" x=\"1150.6\" y=\"-57.8\" font-family=\"Times,serif\" font-size=\"14.00\">lugar_nacimiento</text>\n</g>\n<!-- Isabel -->\n<g id=\"node16\" class=\"node\">\n<title>Isabel</title>\n<ellipse fill=\"none\" stroke=\"black\" cx=\"841.6\" cy=\"-18\" rx=\"31.7\" ry=\"18\"/>\n<text text-anchor=\"middle\" x=\"841.6\" y=\"-14.3\" font-family=\"Times,serif\" font-size=\"14.00\">Isabel</text>\n</g>\n<!-- Luis&#45;&gt;Isabel -->\n<g id=\"edge14\" class=\"edge\">\n<title>Luis&#45;&gt;Isabel</title>\n<path fill=\"none\" stroke=\"black\" d=\"M861.47,-93.3C852.35,-87.47 842.64,-79.31 837.6,-69 834.18,-62.01 833.63,-53.8 834.37,-46.09\"/>\n<polygon fill=\"black\" stroke=\"black\" points=\"837.86,-46.46 836.03,-36.02 830.95,-45.32 837.86,-46.46\"/>\n<text text-anchor=\"middle\" x=\"871.6\" y=\"-57.8\" font-family=\"Times,serif\" font-size=\"14.00\">tiene_madre</text>\n</g>\n<!-- Jorge -->\n<g id=\"node17\" class=\"node\">\n<title>Jorge</title>\n<ellipse fill=\"none\" stroke=\"black\" cx=\"1075.6\" cy=\"-18\" rx=\"29.8\" ry=\"18\"/>\n<text text-anchor=\"middle\" x=\"1075.6\" y=\"-14.3\" font-family=\"Times,serif\" font-size=\"14.00\">Jorge</text>\n</g>\n<!-- Luis&#45;&gt;Jorge -->\n<g id=\"edge15\" class=\"edge\">\n<title>Luis&#45;&gt;Jorge</title>\n<path fill=\"none\" stroke=\"black\" d=\"M893.24,-88.13C901.58,-76.93 914.15,-62.47 928.6,-54 961.74,-34.57 1005.07,-25.91 1036.08,-22.07\"/>\n<polygon fill=\"black\" stroke=\"black\" points=\"1036.55,-25.53 1046.1,-20.94 1035.77,-18.58 1036.55,-25.53\"/>\n<text text-anchor=\"middle\" x=\"960.6\" y=\"-57.8\" font-family=\"Times,serif\" font-size=\"14.00\">tiene_padre</text>\n</g>\n<!-- Ana -->\n<g id=\"node18\" class=\"node\">\n<title>Ana</title>\n<ellipse fill=\"none\" stroke=\"black\" cx=\"1140.6\" cy=\"-105\" rx=\"27\" ry=\"18\"/>\n<text text-anchor=\"middle\" x=\"1140.6\" y=\"-101.3\" font-family=\"Times,serif\" font-size=\"14.00\">Ana</text>\n</g>\n<!-- Ana&#45;&gt;Madrid -->\n<g id=\"edge16\" class=\"edge\">\n<title>Ana&#45;&gt;Madrid</title>\n<path fill=\"none\" stroke=\"black\" d=\"M1162.55,-94.2C1168.93,-91.61 1175.96,-88.98 1182.6,-87 1222.1,-75.21 1238.63,-90.83 1273.6,-69 1283.27,-62.96 1291.38,-53.51 1297.59,-44.45\"/>\n<polygon fill=\"black\" stroke=\"black\" points=\"1300.55,-46.32 1302.95,-36 1294.64,-42.57 1300.55,-46.32\"/>\n<text text-anchor=\"middle\" x=\"1337.6\" y=\"-57.8\" font-family=\"Times,serif\" font-size=\"14.00\">lugar_nacimiento</text>\n</g>\n<!-- Ana&#45;&gt;Isabel -->\n<g id=\"edge17\" class=\"edge\">\n<title>Ana&#45;&gt;Isabel</title>\n<path fill=\"none\" stroke=\"black\" d=\"M1114.9,-99.2C1089.06,-93.83 1048.44,-83.88 1015.6,-69 1004.48,-63.96 1003.82,-58.78 992.6,-54 956.9,-38.79 913.51,-29.61 882.42,-24.49\"/>\n<polygon fill=\"black\" stroke=\"black\" points=\"882.79,-21.01 872.37,-22.91 881.71,-27.92 882.79,-21.01\"/>\n<text text-anchor=\"middle\" x=\"1049.6\" y=\"-57.8\" font-family=\"Times,serif\" font-size=\"14.00\">tiene_madre</text>\n</g>\n<!-- Ana&#45;&gt;Jorge -->\n<g id=\"edge18\" class=\"edge\">\n<title>Ana&#45;&gt;Jorge</title>\n<path fill=\"none\" stroke=\"black\" d=\"M1162.58,-94.48C1178.52,-87.08 1198.05,-76.79 1202.6,-69 1205.96,-63.24 1206.64,-59.3 1202.6,-54 1191.86,-39.9 1147.58,-30.05 1114.31,-24.46\"/>\n<polygon fill=\"black\" stroke=\"black\" points=\"1114.81,-21 1104.38,-22.87 1113.7,-27.91 1114.81,-21\"/>\n<text text-anchor=\"middle\" x=\"1237.6\" y=\"-57.8\" font-family=\"Times,serif\" font-size=\"14.00\">tiene_padre</text>\n</g>\n<!-- 1982 -->\n<g id=\"node19\" class=\"node\">\n<title>1982</title>\n<ellipse fill=\"none\" stroke=\"black\" cx=\"1430.6\" cy=\"-18\" rx=\"28.7\" ry=\"18\"/>\n<text text-anchor=\"middle\" x=\"1430.6\" y=\"-14.3\" font-family=\"Times,serif\" font-size=\"14.00\">1982</text>\n</g>\n<!-- Ana&#45;&gt;1982 -->\n<g id=\"edge19\" class=\"edge\">\n<title>Ana&#45;&gt;1982</title>\n<path fill=\"none\" stroke=\"black\" d=\"M1161.99,-93.91C1168.48,-91.24 1175.71,-88.65 1182.6,-87 1227.49,-76.22 1348.76,-90.54 1389.6,-69 1400.39,-63.31 1409.41,-53.43 1416.22,-43.95\"/>\n<polygon fill=\"black\" stroke=\"black\" points=\"1419.22,-45.76 1421.84,-35.49 1413.39,-41.89 1419.22,-45.76\"/>\n<text text-anchor=\"middle\" x=\"1450.6\" y=\"-57.8\" font-family=\"Times,serif\" font-size=\"14.00\">año_nacimiento</text>\n</g>\n<!-- Sonia -->\n<g id=\"node20\" class=\"node\">\n<title>Sonia</title>\n<ellipse fill=\"none\" stroke=\"black\" cx=\"2027.6\" cy=\"-105\" rx=\"30.59\" ry=\"18\"/>\n<text text-anchor=\"middle\" x=\"2027.6\" y=\"-101.3\" font-family=\"Times,serif\" font-size=\"14.00\">Sonia</text>\n</g>\n<!-- Valencia -->\n<g id=\"node21\" class=\"node\">\n<title>Valencia</title>\n<ellipse fill=\"none\" stroke=\"black\" cx=\"2083.6\" cy=\"-18\" rx=\"40.89\" ry=\"18\"/>\n<text text-anchor=\"middle\" x=\"2083.6\" y=\"-14.3\" font-family=\"Times,serif\" font-size=\"14.00\">Valencia</text>\n</g>\n<!-- Sonia&#45;&gt;Valencia -->\n<g id=\"edge20\" class=\"edge\">\n<title>Sonia&#45;&gt;Valencia</title>\n<path fill=\"none\" stroke=\"black\" d=\"M2039.84,-88.21C2044.3,-82.28 2049.3,-75.42 2053.6,-69 2058.78,-61.26 2064.11,-52.62 2068.81,-44.74\"/>\n<polygon fill=\"black\" stroke=\"black\" points=\"2071.95,-46.32 2074,-35.92 2065.91,-42.77 2071.95,-46.32\"/>\n<text text-anchor=\"middle\" x=\"2110.6\" y=\"-57.8\" font-family=\"Times,serif\" font-size=\"14.00\">lugar_nacimiento</text>\n</g>\n<!-- María -->\n<g id=\"node22\" class=\"node\">\n<title>María</title>\n<ellipse fill=\"none\" stroke=\"black\" cx=\"2194.6\" cy=\"-18\" rx=\"32.49\" ry=\"18\"/>\n<text text-anchor=\"middle\" x=\"2194.6\" y=\"-14.3\" font-family=\"Times,serif\" font-size=\"14.00\">María</text>\n</g>\n<!-- Sonia&#45;&gt;María -->\n<g id=\"edge21\" class=\"edge\">\n<title>Sonia&#45;&gt;María</title>\n<path fill=\"none\" stroke=\"black\" d=\"M2057.91,-102.44C2087.19,-99.58 2131.53,-91.53 2162.6,-69 2171.14,-62.8 2177.97,-53.56 2183.09,-44.7\"/>\n<polygon fill=\"black\" stroke=\"black\" points=\"2186.24,-46.23 2187.81,-35.75 2180.05,-42.97 2186.24,-46.23\"/>\n<text text-anchor=\"middle\" x=\"2210.6\" y=\"-57.8\" font-family=\"Times,serif\" font-size=\"14.00\">tiene_madre</text>\n</g>\n<!-- Fernando -->\n<g id=\"node23\" class=\"node\">\n<title>Fernando</title>\n<ellipse fill=\"none\" stroke=\"black\" cx=\"1980.6\" cy=\"-18\" rx=\"44.39\" ry=\"18\"/>\n<text text-anchor=\"middle\" x=\"1980.6\" y=\"-14.3\" font-family=\"Times,serif\" font-size=\"14.00\">Fernando</text>\n</g>\n<!-- Sonia&#45;&gt;Fernando -->\n<g id=\"edge22\" class=\"edge\">\n<title>Sonia&#45;&gt;Fernando</title>\n<path fill=\"none\" stroke=\"black\" d=\"M2008.46,-90.62C2001.48,-84.77 1994.17,-77.33 1989.6,-69 1985.8,-62.09 1983.56,-53.91 1982.25,-46.19\"/>\n<polygon fill=\"black\" stroke=\"black\" points=\"1985.7,-45.59 1980.98,-36.11 1978.76,-46.47 1985.7,-45.59\"/>\n<text text-anchor=\"middle\" x=\"2021.6\" y=\"-57.8\" font-family=\"Times,serif\" font-size=\"14.00\">tiene_padre</text>\n</g>\n<!-- Begoña -->\n<g id=\"node24\" class=\"node\">\n<title>Begoña</title>\n<ellipse fill=\"none\" stroke=\"black\" cx=\"1721.6\" cy=\"-192\" rx=\"37.89\" ry=\"18\"/>\n<text text-anchor=\"middle\" x=\"1721.6\" y=\"-188.3\" font-family=\"Times,serif\" font-size=\"14.00\">Begoña</text>\n</g>\n<!-- Begoña&#45;&gt;Pedro -->\n<g id=\"edge23\" class=\"edge\">\n<title>Begoña&#45;&gt;Pedro</title>\n<path fill=\"none\" stroke=\"black\" d=\"M1698.4,-177.38C1691.02,-171.77 1683.71,-164.55 1679.6,-156 1676.24,-149.01 1675.1,-140.8 1675.04,-133.08\"/>\n<polygon fill=\"black\" stroke=\"black\" points=\"1678.54,-133.18 1675.53,-123.02 1671.55,-132.84 1678.54,-133.18\"/>\n<text text-anchor=\"middle\" x=\"1711.6\" y=\"-144.8\" font-family=\"Times,serif\" font-size=\"14.00\">tiene_padre</text>\n</g>\n<!-- Begoña&#45;&gt;Madrid -->\n<g id=\"edge24\" class=\"edge\">\n<title>Begoña&#45;&gt;Madrid</title>\n<path fill=\"none\" stroke=\"black\" d=\"M1687,-184.69C1648.33,-176.19 1585.53,-157.94 1542.6,-123 1514.39,-100.04 1528.91,-74.1 1498.6,-54 1458.78,-27.59 1439.55,-44.91 1392.6,-36 1380.25,-33.66 1366.87,-30.93 1354.62,-28.35\"/>\n<polygon fill=\"black\" stroke=\"black\" points=\"1355.15,-24.89 1344.64,-26.24 1353.7,-31.74 1355.15,-24.89\"/>\n<text text-anchor=\"middle\" x=\"1590.6\" y=\"-101.3\" font-family=\"Times,serif\" font-size=\"14.00\">lugar_nacimiento</text>\n</g>\n<!-- Begoña&#45;&gt;Sonia -->\n<g id=\"edge25\" class=\"edge\">\n<title>Begoña&#45;&gt;Sonia</title>\n<path fill=\"none\" stroke=\"black\" d=\"M1753.48,-182.14C1810.49,-166.31 1929.62,-133.22 1990.31,-116.36\"/>\n<polygon fill=\"black\" stroke=\"black\" points=\"1991.54,-119.65 2000.24,-113.6 1989.67,-112.9 1991.54,-119.65\"/>\n<text text-anchor=\"middle\" x=\"1926.6\" y=\"-144.8\" font-family=\"Times,serif\" font-size=\"14.00\">tiene_madre</text>\n</g>\n<!-- 2010 -->\n<g id=\"node25\" class=\"node\">\n<title>2010</title>\n<ellipse fill=\"none\" stroke=\"black\" cx=\"1765.6\" cy=\"-105\" rx=\"28.7\" ry=\"18\"/>\n<text text-anchor=\"middle\" x=\"1765.6\" y=\"-101.3\" font-family=\"Times,serif\" font-size=\"14.00\">2010</text>\n</g>\n<!-- Begoña&#45;&gt;2010 -->\n<g id=\"edge26\" class=\"edge\">\n<title>Begoña&#45;&gt;2010</title>\n<path fill=\"none\" stroke=\"black\" d=\"M1732.63,-174.56C1736.3,-168.8 1740.3,-162.21 1743.6,-156 1747.6,-148.46 1751.5,-140.04 1754.89,-132.3\"/>\n<polygon fill=\"black\" stroke=\"black\" points=\"1758.17,-133.53 1758.86,-122.96 1751.73,-130.79 1758.17,-133.53\"/>\n<text text-anchor=\"middle\" x=\"1794.6\" y=\"-144.8\" font-family=\"Times,serif\" font-size=\"14.00\">año_nacimiento</text>\n</g>\n<!-- Marta -->\n<g id=\"node26\" class=\"node\">\n<title>Marta</title>\n<ellipse fill=\"none\" stroke=\"black\" cx=\"729.6\" cy=\"-192\" rx=\"32.49\" ry=\"18\"/>\n<text text-anchor=\"middle\" x=\"729.6\" y=\"-188.3\" font-family=\"Times,serif\" font-size=\"14.00\">Marta</text>\n</g>\n<!-- Marta&#45;&gt;Arturo -->\n<g id=\"edge27\" class=\"edge\">\n<title>Marta&#45;&gt;Arturo</title>\n<path fill=\"none\" stroke=\"black\" d=\"M710.86,-177.15C692.18,-163.34 663.28,-141.98 642.01,-126.26\"/>\n<polygon fill=\"black\" stroke=\"black\" points=\"643.83,-123.25 633.71,-120.12 639.67,-128.88 643.83,-123.25\"/>\n<text text-anchor=\"middle\" x=\"711.6\" y=\"-144.8\" font-family=\"Times,serif\" font-size=\"14.00\">tiene_padre</text>\n</g>\n<!-- Marta&#45;&gt;Ana -->\n<g id=\"edge28\" class=\"edge\">\n<title>Marta&#45;&gt;Ana</title>\n<path fill=\"none\" stroke=\"black\" d=\"M759.38,-184.77C791.2,-178.02 843.09,-166.78 887.6,-156 913.06,-149.83 919.02,-146.64 944.6,-141 1000.06,-128.77 1065.08,-117.82 1104.53,-111.55\"/>\n<polygon fill=\"black\" stroke=\"black\" points=\"1105.13,-114.99 1114.47,-109.98 1104.04,-108.08 1105.13,-114.99\"/>\n<text text-anchor=\"middle\" x=\"978.6\" y=\"-144.8\" font-family=\"Times,serif\" font-size=\"14.00\">tiene_madre</text>\n</g>\n<!-- 2015 -->\n<g id=\"node27\" class=\"node\">\n<title>2015</title>\n<ellipse fill=\"none\" stroke=\"black\" cx=\"533.6\" cy=\"-105\" rx=\"28.7\" ry=\"18\"/>\n<text text-anchor=\"middle\" x=\"533.6\" y=\"-101.3\" font-family=\"Times,serif\" font-size=\"14.00\">2015</text>\n</g>\n<!-- Marta&#45;&gt;2015 -->\n<g id=\"edge29\" class=\"edge\">\n<title>Marta&#45;&gt;2015</title>\n<path fill=\"none\" stroke=\"black\" d=\"M697.06,-189.92C663.75,-187.46 611.62,-179.75 573.6,-156 563.59,-149.75 555.01,-140.09 548.39,-130.93\"/>\n<polygon fill=\"black\" stroke=\"black\" points=\"551.15,-128.76 542.66,-122.42 545.34,-132.67 551.15,-128.76\"/>\n<text text-anchor=\"middle\" x=\"617.6\" y=\"-144.8\" font-family=\"Times,serif\" font-size=\"14.00\">año_nacimiento</text>\n</g>\n<!-- Soria -->\n<g id=\"node28\" class=\"node\">\n<title>Soria</title>\n<ellipse fill=\"none\" stroke=\"black\" cx=\"960.6\" cy=\"-105\" rx=\"29.5\" ry=\"18\"/>\n<text text-anchor=\"middle\" x=\"960.6\" y=\"-101.3\" font-family=\"Times,serif\" font-size=\"14.00\">Soria</text>\n</g>\n<!-- Marta&#45;&gt;Soria -->\n<g id=\"edge30\" class=\"edge\">\n<title>Marta&#45;&gt;Soria</title>\n<path fill=\"none\" stroke=\"black\" d=\"M743.84,-175.69C755.52,-164.17 773.08,-149.04 791.6,-141 843.89,-118.29 863.54,-137.8 918.6,-123 921.79,-122.14 925.06,-121.11 928.31,-119.98\"/>\n<polygon fill=\"black\" stroke=\"black\" points=\"929.71,-123.19 937.84,-116.39 927.25,-116.64 929.71,-123.19\"/>\n<text text-anchor=\"middle\" x=\"839.6\" y=\"-144.8\" font-family=\"Times,serif\" font-size=\"14.00\">lugar_nacimiento</text>\n</g>\n<!-- Juan -->\n<g id=\"node29\" class=\"node\">\n<title>Juan</title>\n<ellipse fill=\"none\" stroke=\"black\" cx=\"1224.6\" cy=\"-192\" rx=\"27\" ry=\"18\"/>\n<text text-anchor=\"middle\" x=\"1224.6\" y=\"-188.3\" font-family=\"Times,serif\" font-size=\"14.00\">Juan</text>\n</g>\n<!-- Juan&#45;&gt;Pedro -->\n<g id=\"edge31\" class=\"edge\">\n<title>Juan&#45;&gt;Pedro</title>\n<path fill=\"none\" stroke=\"black\" d=\"M1251.3,-188.4C1317.13,-181.59 1492.15,-161.08 1633.6,-123 1637.2,-122.03 1640.91,-120.88 1644.58,-119.65\"/>\n<polygon fill=\"black\" stroke=\"black\" points=\"1645.89,-122.9 1654.13,-116.24 1643.53,-116.31 1645.89,-122.9\"/>\n<text text-anchor=\"middle\" x=\"1587.6\" y=\"-144.8\" font-family=\"Times,serif\" font-size=\"14.00\">tiene_padre</text>\n</g>\n<!-- Juan&#45;&gt;Ana -->\n<g id=\"edge32\" class=\"edge\">\n<title>Juan&#45;&gt;Ana</title>\n<path fill=\"none\" stroke=\"black\" d=\"M1199.77,-184.85C1184.02,-179.69 1164.44,-170.73 1152.6,-156 1147.47,-149.61 1144.47,-141.38 1142.74,-133.44\"/>\n<polygon fill=\"black\" stroke=\"black\" points=\"1146.16,-132.68 1141.12,-123.36 1139.25,-133.79 1146.16,-132.68\"/>\n<text text-anchor=\"middle\" x=\"1186.6\" y=\"-144.8\" font-family=\"Times,serif\" font-size=\"14.00\">tiene_madre</text>\n</g>\n<!-- Juan&#45;&gt;Soria -->\n<g id=\"edge33\" class=\"edge\">\n<title>Juan&#45;&gt;Soria</title>\n<path fill=\"none\" stroke=\"black\" d=\"M1198.04,-188.64C1162.4,-184.84 1097.56,-175.7 1045.6,-156 1024.93,-148.16 1003.49,-135.52 987.32,-124.9\"/>\n<polygon fill=\"black\" stroke=\"black\" points=\"989.16,-121.93 978.91,-119.26 985.26,-127.74 989.16,-121.93\"/>\n<text text-anchor=\"middle\" x=\"1093.6\" y=\"-144.8\" font-family=\"Times,serif\" font-size=\"14.00\">lugar_nacimiento</text>\n</g>\n<!-- 2020 -->\n<g id=\"node30\" class=\"node\">\n<title>2020</title>\n<ellipse fill=\"none\" stroke=\"black\" cx=\"1343.6\" cy=\"-105\" rx=\"28.7\" ry=\"18\"/>\n<text text-anchor=\"middle\" x=\"1343.6\" y=\"-101.3\" font-family=\"Times,serif\" font-size=\"14.00\">2020</text>\n</g>\n<!-- Juan&#45;&gt;2020 -->\n<g id=\"edge34\" class=\"edge\">\n<title>Juan&#45;&gt;2020</title>\n<path fill=\"none\" stroke=\"black\" d=\"M1251.05,-187.31C1272.44,-183.08 1302.1,-174.21 1321.6,-156 1328.37,-149.67 1333.18,-140.89 1336.54,-132.44\"/>\n<polygon fill=\"black\" stroke=\"black\" points=\"1339.89,-133.45 1339.84,-122.86 1333.27,-131.17 1339.89,-133.45\"/>\n<text text-anchor=\"middle\" x=\"1375.6\" y=\"-144.8\" font-family=\"Times,serif\" font-size=\"14.00\">año_nacimiento</text>\n</g>\n<!-- Teruel -->\n<g id=\"node31\" class=\"node\">\n<title>Teruel</title>\n<ellipse fill=\"none\" stroke=\"black\" cx=\"1224.6\" cy=\"-105\" rx=\"33.29\" ry=\"18\"/>\n<text text-anchor=\"middle\" x=\"1224.6\" y=\"-101.3\" font-family=\"Times,serif\" font-size=\"14.00\">Teruel</text>\n</g>\n<!-- Juan&#45;&gt;Teruel -->\n<g id=\"edge35\" class=\"edge\">\n<title>Juan&#45;&gt;Teruel</title>\n<path fill=\"none\" stroke=\"black\" d=\"M1224.6,-173.8C1224.6,-162.16 1224.6,-146.55 1224.6,-133.24\"/>\n<polygon fill=\"black\" stroke=\"black\" points=\"1228.1,-133.18 1224.6,-123.18 1221.1,-133.18 1228.1,-133.18\"/>\n<text text-anchor=\"middle\" x=\"1272.6\" y=\"-144.8\" font-family=\"Times,serif\" font-size=\"14.00\">lugar_nacimiento</text>\n</g>\n</g>\n</svg>\n"
          },
          "metadata": {},
          "execution_count": 28
        }
      ],
      "source": [
        "# Se convierte el grafo networkx a un objeto A de pygraphviz que contiene el grafo .dot es A.string(g). \n",
        "# En este ejemplo, se renderiza este .dot usando el paquete graphviz.\n",
        "visualiza_grafo_graphviz(grafo)"
      ]
    },
    {
      "cell_type": "code",
      "execution_count": null,
      "id": "59d8d28a",
      "metadata": {
        "id": "59d8d28a"
      },
      "outputs": [],
      "source": [
        "# Se utiliza el paquete pyvis\n",
        "# Permite ampliación y permite arrastre de nodos\n",
        "visualiza_grafo_pyvis(grafo,'grafo.html')"
      ]
    },
    {
      "cell_type": "markdown",
      "id": "f3e3b6f2",
      "metadata": {
        "id": "f3e3b6f2"
      },
      "source": [
        "# Análisis del grafo\n",
        "En la [referencia de NetworkX](https://networkx.org/documentation/stable/reference/index.html) además de las funciones básicas descriptivas en [Functions](https://networkx.org/documentation/stable/reference/functions.html), se encuentran algoritmos de cálculos más avanzados en [Algorithms](https://networkx.org/documentation/stable/reference/algorithms/index.html) y [Linear Algebra](https://networkx.org/documentation/stable/reference/linalg.html)."
      ]
    },
    {
      "cell_type": "markdown",
      "id": "ea585333",
      "metadata": {
        "id": "ea585333"
      },
      "source": [
        "En este ejemplo, se procede a detectar:\n",
        "+ La lista de nodos con mayor grado (grado_entrada + grado_salida)\n",
        "+ Los nodos predecesores y sucesores de todos ellos\n",
        "+ Y se acota el subgrafo que tiene todos esos nodos y mantiene todas las aristas entre ellos"
      ]
    },
    {
      "cell_type": "code",
      "execution_count": 12,
      "id": "532745bb",
      "metadata": {
        "id": "532745bb",
        "outputId": "450a7cbc-febc-4d69-a430-4cf4db6597b8",
        "colab": {
          "base_uri": "https://localhost:8080/"
        }
      },
      "outputs": [
        {
          "output_type": "stream",
          "name": "stdout",
          "text": [
            "Nodos con mayor grado: ['Pedro', 'Ana']\n",
            "Precedidos en el digrafo por ['Begoña', 'Juan', 'Marta', 'Juan']\n",
            "Sucedidos en el digrafo por ['1979', 'Badajoz', 'Inés', 'Pablo', '1982', 'Madrid', 'Isabel', 'Jorge']\n"
          ]
        }
      ],
      "source": [
        "nodos_max = nodos_grado_max(grafo)\n",
        "predecesores = predecesores_nodos(grafo, nodos_max)\n",
        "sucesores = sucesores_nodos(grafo, nodos_max)\n",
        "\n",
        "print(f'Nodos con mayor grado: {nodos_max}')\n",
        "print(f'Precedidos en el digrafo por {predecesores}')\n",
        "print(f'Sucedidos en el digrafo por {sucesores}')"
      ]
    },
    {
      "cell_type": "code",
      "execution_count": 13,
      "id": "af9412dc",
      "metadata": {
        "id": "af9412dc",
        "outputId": "297acb25-5308-4730-bd26-69be08cf0f09",
        "colab": {
          "base_uri": "https://localhost:8080/"
        }
      },
      "outputs": [
        {
          "output_type": "execute_result",
          "data": {
            "text/plain": [
              "OutEdgeView([('Pedro', '1979'), ('Pedro', 'Badajoz'), ('Pedro', 'Inés'), ('Pedro', 'Pablo'), ('Juan', 'Ana'), ('Juan', 'Pedro'), ('Marta', 'Ana'), ('Ana', '1982'), ('Ana', 'Madrid'), ('Ana', 'Isabel'), ('Ana', 'Jorge'), ('Begoña', 'Madrid'), ('Begoña', 'Pedro')])"
            ]
          },
          "metadata": {},
          "execution_count": 13
        }
      ],
      "source": [
        "# Subgrafo producido por nodos con grado máximo, junto a predecesores y sucesores\n",
        "subgrafo_nodos_max = subgrafo_nodos(grafo,nodos_max)\n",
        "subgrafo_nodos_max.edges()"
      ]
    },
    {
      "cell_type": "code",
      "execution_count": null,
      "id": "2d3f7a17",
      "metadata": {
        "id": "2d3f7a17"
      },
      "outputs": [],
      "source": [
        "visualiza_grafo_graphviz(subgrafo_nodos_max)"
      ]
    },
    {
      "cell_type": "markdown",
      "id": "4e5a3077",
      "metadata": {
        "id": "4e5a3077"
      },
      "source": [
        "# Referencias"
      ]
    },
    {
      "cell_type": "markdown",
      "id": "ce437ce8",
      "metadata": {
        "id": "ce437ce8"
      },
      "source": [
        "**Cuadernos Colab**. Si se ejecutan consultas en Google del tipo `término(s) site:colab.research.google.com` con `término`como _'networkx'_ o _'social network'_, se pueden encontrar otros cuadernos ejecutables relacionados.\n",
        "+ [tutorial_networkx.ipynb](https://www.google.com/url?sa=t&rct=j&q=&esrc=s&source=web&cd=&ved=2ahUKEwjelb7qvdn8AhUDgP0HHUSKCbIQFnoECA8QAQ&url=https%3A%2F%2Fcolab.research.google.com%2Fdrive%2F1m4OKhgu9InS4RL-foL8NFdj16NNriJ3H&usg=AOvVaw03i9_MTALR58Gz4hiX8Moy)\n",
        "+ [networkx.ipynb](https://www.google.com/url?sa=t&rct=j&q=&esrc=s&source=web&cd=&ved=2ahUKEwjelb7qvdn8AhUDgP0HHUSKCbIQFnoECB4QAQ&url=https%3A%2F%2Fcolab.research.google.com%2Fgithub%2Fcaam37830%2Fbook%2Fblob%2Fmaster%2F05_graphs%2Fnetworkx.ipynb&usg=AOvVaw2cPctpkulG52Y9l7opZacK)\n",
        "+ [comparativeAnalysis.ipynb](https://www.google.com/url?sa=t&rct=j&q=&esrc=s&source=web&cd=&ved=2ahUKEwiin4WbwNn8AhXCi_0HHTu_AbQQFnoECBwQAQ&url=https%3A%2F%2Fcolab.research.google.com%2Fgithub%2FZhihaoDC%2FTFG%2Fblob%2Fmain%2Fsource%2FcomparativeAnalysis.ipynb&usg=AOvVaw2zcM4C1CKcCnkuWfoebWMZ)\n",
        "\n",
        "**Datasets de ejemplo en Networkx**. Hay conjuntos de datos citados en la referencia de Networkx para experimentar. Entre otros, [Words/Ladder Graph](https://networkx.org/documentation/stable/auto_examples/graph/plot_words.html), [Karate club](https://networkx.org/documentation/stable/auto_examples/graph/plot_karate_club.html), [Football](https://networkx.org/documentation/stable/auto_examples/graph/plot_football.html), [Les Miserables](https://networkx.org/documentation/stable/reference/generated/networkx.generators.social.les_miserables_graph.html), [Florentine families](https://networkx.org/documentation/stable/reference/generated/networkx.generators.social.florentine_families_graph.html) o [Southern families](https://networkx.org/documentation/stable/reference/generated/networkx.generators.social.davis_southern_women_graph.html)."
      ]
    }
  ],
  "metadata": {
    "kernelspec": {
      "display_name": "Python 3 (ipykernel)",
      "language": "python",
      "name": "python3"
    },
    "language_info": {
      "codemirror_mode": {
        "name": "ipython",
        "version": 3
      },
      "file_extension": ".py",
      "mimetype": "text/x-python",
      "name": "python",
      "nbconvert_exporter": "python",
      "pygments_lexer": "ipython3",
      "version": "3.9.12"
    },
    "colab": {
      "provenance": [],
      "toc_visible": true
    }
  },
  "nbformat": 4,
  "nbformat_minor": 5
}