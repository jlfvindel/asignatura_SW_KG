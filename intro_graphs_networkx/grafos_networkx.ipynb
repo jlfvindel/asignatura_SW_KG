{
  "cells": [
    {
      "cell_type": "markdown",
      "id": "0617e868",
      "metadata": {
        "id": "0617e868"
      },
      "source": [
        "[![Open In Colab](https://colab.research.google.com/assets/colab-badge.svg)](https://colab.research.google.com/github/jlfvindel/asignatura_SW_KG/blob/main/intro_graphs_networkx/grafos_networkx.ipynb)"
      ]
    },
    {
      "cell_type": "markdown",
      "id": "edf04ad1",
      "metadata": {
        "id": "edf04ad1"
      },
      "source": [
        "# Resumen\n",
        "Ejemplo de conversión de datos tabulares a un grafo:\n",
        "+ **Datos -> Tabla**. Desde un objeto Json a un DataFrame\n",
        "+ **Tabla -> Ternas**. Hacia una lista de relaciones atómicas `(nodo1, enlace, nodo2)`.\n",
        "+ **Ternas -> Grafo**. Hacia un grafo NetworkxY, con facilidades de análisis y visualización"
      ]
    },
    {
      "cell_type": "markdown",
      "source": [
        "# Inicialización del cuaderno\n",
        "Colapse la sección para ejecutar todas sus celdas en un solo paso. O depliege para inspeccionarlas y ejecutarlas individualmente."
      ],
      "metadata": {
        "id": "uviQYyigCQah"
      },
      "id": "uviQYyigCQah"
    },
    {
      "cell_type": "markdown",
      "source": [
        "## Paquetes: instalación e importación"
      ],
      "metadata": {
        "id": "W7D5rW2iDwmY"
      },
      "id": "W7D5rW2iDwmY"
    },
    {
      "cell_type": "code",
      "source": [
        "#Comente %%capture para ver informes del proceso\n",
        "%%capture\n",
        "!pip install networkx\n",
        "!apt install graphviz graphviz-dev\n",
        "!pip install pygraphviz\n",
        "!pip install graphviz\n",
        "!pip install pyvis\n"
      ],
      "metadata": {
        "id": "h17QzW60CuO0"
      },
      "id": "h17QzW60CuO0",
      "execution_count": 1,
      "outputs": []
    },
    {
      "cell_type": "code",
      "source": [
        "%%capture\n",
        "# Datos json -> dataframe\n",
        "import json\n",
        "import pandas as pd\n",
        "\n",
        "# Generación de grafos\n",
        "import networkx as nx\n",
        "\n",
        "# Visualización de grafos\n",
        "import matplotlib.pyplot as plt\n",
        "import pygraphviz as pgv\n",
        "import graphviz as gv\n",
        "\n",
        "from pyvis.network import Network\n",
        "from IPython.core.display import display, HTML"
      ],
      "metadata": {
        "id": "PVmMcOn-C2-a"
      },
      "id": "PVmMcOn-C2-a",
      "execution_count": 2,
      "outputs": []
    },
    {
      "cell_type": "markdown",
      "source": [
        "## Funciones: datos json -> tabla -> tuplas"
      ],
      "metadata": {
        "id": "4EaX-Ro-E6OW"
      },
      "id": "4EaX-Ro-E6OW"
    },
    {
      "cell_type": "code",
      "source": [
        "# DATOS. Ejemplo simplificado. En este caso, como lista de diccionarios. \n",
        "# Nombres como identificadores. Datos relacionales. Juan tiene dos registros.\n",
        "datos_ej0 = [ \n",
        "    {'nombre':'Marcos', 'año_nacimiento':'1962', 'lugar_nacimiento':'Salamanca', 'tiene_madre':'Belén', 'tiene_padre':'Ángel'},\n",
        "    {'nombre':'Arturo', 'año_nacimiento':'1966', 'tiene_madre':'Belén', 'tiene_padre':'Ángel'},\n",
        "    {'nombre':'Pedro', 'año_nacimiento':'1979', 'lugar_nacimiento':'Badajoz', 'tiene_madre':'Inés', 'tiene_padre':'Pablo'},\n",
        "    {'nombre':'Luis', 'año_nacimiento':'1984', 'lugar_nacimiento':'Madrid', 'tiene_madre':'Isabel', 'tiene_padre':'Jorge'},\n",
        "    {'nombre':'Ana', 'año_nacimiento':'1982', 'lugar_nacimiento':'Madrid', 'tiene_madre':'Isabel', 'tiene_padre':'Jorge'},\n",
        "    {'nombre':'Sonia', 'lugar_nacimiento':'Valencia', 'tiene_madre':'María', 'tiene_padre':'Fernando'},\n",
        "    {'nombre':'Begoña', 'año_nacimiento':'2010', 'lugar_nacimiento':'Madrid', 'tiene_madre':'Sonia', 'tiene_padre':'Pedro'},\n",
        "    {'nombre':'Marta', 'año_nacimiento':'2015', 'lugar_nacimiento':'Soria', 'tiene_madre':'Ana', 'tiene_padre':'Arturo'},\n",
        "    {'nombre':'Juan', 'año_nacimiento':'2020', 'lugar_nacimiento':'Teruel', 'tiene_madre':'Ana'},\n",
        "    {'nombre':'Juan', 'lugar_nacimiento':'Soria', 'tiene_padre':'Pedro'}]\n",
        "\n",
        "datos = datos_ej0\n",
        "\n",
        "# Impresión de datos, para este ejemplo \n",
        "def imprime_datos(datos):\n",
        "    print(json.dumps(datos, indent=2,  ensure_ascii=False))\n",
        "\n",
        "# TABLA. DataFrame. En este caso, datos con estructura tabular, quizá con celdas vacías y con filas repetidas.\n",
        "# Para otros formatos de datos: pd.DataFrame.from_(dict|records), pd.read_(csv|xml|json), pd.json_normalize ...\n",
        "def datos_a_tabla(datos):\n",
        "    df = pd.DataFrame.from_records(datos_ej0)\n",
        "    return df\n",
        "\n",
        "def imprime_tabla(df):\n",
        "    display(df)\n",
        "\n",
        "# TUPLAS: lista de 3 tuplas.     \n",
        "def tabla_a_tuplas3(df,col_idx = 0):\n",
        "    '''\n",
        "    Dataframe a 3tuplas (sujeto_celda_fila_X, cabecera_columna_Y, valor_celda_X_Y)\n",
        "    col_idx=N si los sujetos de la 3tupla no están en la columna 0 sino en la N\n",
        "    '''\n",
        "    columnas = df.columns.values.tolist()\n",
        "    columna_idx = columnas[col_idx]\n",
        "    columnas.remove(columna_idx)\n",
        "\n",
        "    ternas = []\n",
        "    for fila in df.index:\n",
        "        for columna in columnas:\n",
        "            sujeto_t = df[columna_idx][fila]\n",
        "            predicado_t = columna\n",
        "            objeto_t = df[columna][fila]\n",
        "            if pd.notnull(objeto_t):\n",
        "                terna = (sujeto_t, predicado_t, objeto_t)\n",
        "                ternas.append(terna)\n",
        "    return ternas\n",
        "\n",
        "def imprime_tuplas3(tuplas3):\n",
        "    display(tuplas3)"
      ],
      "metadata": {
        "id": "JgwuKloNFGq6"
      },
      "id": "JgwuKloNFGq6",
      "execution_count": 3,
      "outputs": []
    },
    {
      "cell_type": "markdown",
      "source": [
        "## Funciones: tuplas -> grafo (ver, analizar)"
      ],
      "metadata": {
        "id": "bXqziL_0GTeC"
      },
      "id": "bXqziL_0GTeC"
    },
    {
      "cell_type": "code",
      "source": [
        "# GRAFO: creación\n",
        "def tuplas3_a_grafo(tuplas3):\n",
        "    G = nx.DiGraph()\n",
        "    for tupla in tuplas3:\n",
        "        #G.add_node(terna[0])\n",
        "        #G.add_node(terna[2])\n",
        "        G.add_edge(tupla[0], tupla[2], label=tupla[1])\n",
        "    return G\n",
        "\n",
        "def describe_grafo(G):\n",
        "    print(f'Dirigido: {nx.is_directed(G)}')\n",
        "    print(f'Número de nodos: {nx.number_of_nodes(G)}. Número de aristas: {nx.number_of_edges(G)}')\n",
        "    print(f'Números de nodos con grado 0, 1, 2, ... respectivamente: {nx.degree_histogram(G)}')\n",
        "\n",
        "# GRAFO: análisis\n",
        "def predecesores_nodos(G,lista_nodos):\n",
        "    '''Ej: lista_nodos = [n1,n2] -> [[n3,n4],[n5,n6,n7]] = sus predecesores respectivos.\n",
        "       Se retorna como lista aplanada [n3,n4,n5,n6,n7]'''\n",
        "    preds_respectivos = [list(G.predecessors(nodo)) for nodo in lista_nodos]\n",
        "    preds_aplanada = [nodo for sublista in preds_respectivos for nodo in sublista]\n",
        "    return preds_aplanada\n",
        "\n",
        "def sucesores_nodos(G,lista_nodos):\n",
        "    '''Ej: lista_nodos = [n1,n2] -> [[n3,n4],[n5,n6,n7]] = sus sucesores respectivos.\n",
        "       Se retorna como lista aplanada [n3,n4,n5,n6,n7]'''\n",
        "    sucs_respectivos = [list(G.successors(nodo)) for nodo in lista_nodos]\n",
        "    sucs_aplanada = [nodo for sublista in sucs_respectivos for nodo in sublista]\n",
        "    return sucs_aplanada\n",
        "\n",
        "def subgrafo_nodos(G,lista_nodos):\n",
        "    '''lista_nodos -> subgrafo de G con nodos lista_nodos, sus predecesores y sus sucesores. Y\n",
        "       con los ejes entre ellos que existían en G'''\n",
        "    fusionados_sin_repeticiones = set(lista_nodos + predecesores_nodos(G,lista_nodos) + sucesores_nodos(G,lista_nodos))\n",
        "    nodos_en_subgrafo = list(fusionados_sin_repeticiones)\n",
        "    subgrafo = nx.subgraph(G,nodos_en_subgrafo)\n",
        "    return subgrafo\n",
        "\n",
        "def nodos_grado_max(G):\n",
        "    '''G -> [n1,...,nk], nodos con el grado máximo (grado_entrada + grado_salida en digrafos)'''\n",
        "    histograma_grados = nx.degree_histogram(G)\n",
        "    grado_max = len(histograma_grados) - 1\n",
        "    lista_nodos_max = [nodo for nodo, grado in nx.degree(G) if grado == grado_max]\n",
        "    return lista_nodos_max\n",
        "\n",
        "# GRAFO: visualización\n",
        "def visualiza_grafo_matplotlib(G):\n",
        "    # Admite muchas otras configuraciones\n",
        "    return nx.draw(G, with_labels=True)\n",
        "    \n",
        "def visualiza_grafo_graphviz(G):\n",
        "    '''grafo g de networkx -> grafo A de pygraphviz, con texto del grafo en formato .dot en A.string()\n",
        "       se prefiere usar finalmente el renderizado del paquete graphviz, que lee el string de pygraphviz'''\n",
        "    A = nx.nx_agraph.to_agraph(G)\n",
        "    return gv.Source(A.string(),format=\"svg\")\n",
        "\n",
        "def visualiza_grafo_pyvis(G,nombre_resultado=\"grafo_pyvis.html\"):\n",
        "    pyvis_g = Network(notebook=True, cdn_resources=\"remote\")\n",
        "    pyvis_g.from_nx(G)\n",
        "    pyvis_g.show(nombre_resultado)\n",
        "    return display(HTML(nombre_resultado))"
      ],
      "metadata": {
        "id": "FhrPnJrBGCbq"
      },
      "id": "FhrPnJrBGCbq",
      "execution_count": 4,
      "outputs": []
    },
    {
      "cell_type": "markdown",
      "id": "0703db43",
      "metadata": {
        "id": "0703db43"
      },
      "source": [
        "# Construcción del grafo"
      ]
    },
    {
      "cell_type": "markdown",
      "id": "f1672581",
      "metadata": {
        "id": "f1672581"
      },
      "source": [
        "### Carga de datos\n",
        "Relaciones entre personas y con ciudades y años de nacimiento."
      ]
    },
    {
      "cell_type": "code",
      "execution_count": null,
      "id": "7f272182",
      "metadata": {
        "id": "7f272182"
      },
      "outputs": [],
      "source": [
        "datos = datos_ej0\n",
        "imprime_datos(datos)"
      ]
    },
    {
      "cell_type": "markdown",
      "id": "986a62fc",
      "metadata": {
        "id": "986a62fc"
      },
      "source": [
        "### Datos a tabla\n",
        "Se aprecia que faltan algunos datos y que hay alguna fila duplicada (con dos lugares de nacimiento distintos)."
      ]
    },
    {
      "cell_type": "code",
      "execution_count": null,
      "id": "bf134c5f",
      "metadata": {
        "id": "bf134c5f"
      },
      "outputs": [],
      "source": [
        "tabla = datos_a_tabla(datos)\n",
        "imprime_tabla(tabla)"
      ]
    },
    {
      "cell_type": "markdown",
      "id": "529ead1c",
      "metadata": {
        "id": "529ead1c"
      },
      "source": [
        "### Tabla a tuplas\n",
        "Cada fila se desglosa en varias 3-tuplas independientes."
      ]
    },
    {
      "cell_type": "code",
      "execution_count": null,
      "id": "5536610a",
      "metadata": {
        "id": "5536610a"
      },
      "outputs": [],
      "source": [
        "tuplas3 = tabla_a_tuplas3(tabla)\n",
        "imprime_tuplas3(tuplas3)"
      ]
    },
    {
      "cell_type": "markdown",
      "id": "4f21cb2b",
      "metadata": {
        "id": "4f21cb2b"
      },
      "source": [
        "### Ternas a grafo\n",
        "Se crea [un grafo Networkx](https://networkx.org/documentation/stable/reference/introduction.html) y se describe usando [funciones de análisis](https://networkx.org/documentation/stable/reference/functions.html) predefinidas."
      ]
    },
    {
      "cell_type": "code",
      "execution_count": null,
      "id": "ec89647e",
      "metadata": {
        "scrolled": true,
        "id": "ec89647e"
      },
      "outputs": [],
      "source": [
        "grafo = tuplas3_a_grafo(tuplas3)\n",
        "describe_grafo(grafo)"
      ]
    },
    {
      "cell_type": "markdown",
      "id": "1fb7335a",
      "metadata": {
        "id": "1fb7335a"
      },
      "source": [
        "# Visualización del grafo\n",
        "Hay funciones de conversión de objetos Networkx a código Matplotlib o a grafos en lenguaje .dot (Graphviz) o latex (TikZ). Y, una vez convertidos, [se aprovecha las facilidades de visualización](https://networkx.org/documentation/stable/reference/drawing.html) del respectivo formato final."
      ]
    },
    {
      "cell_type": "code",
      "execution_count": null,
      "id": "ac0bcaf0",
      "metadata": {
        "id": "ac0bcaf0"
      },
      "outputs": [],
      "source": [
        "visualiza_grafo_matplotlib(grafo)"
      ]
    },
    {
      "cell_type": "code",
      "execution_count": null,
      "id": "fc32666a",
      "metadata": {
        "scrolled": true,
        "id": "fc32666a"
      },
      "outputs": [],
      "source": [
        "# Se convierte el grafo networkx a un objeto A de pygraphviz que contiene el grafo .dot es A.string(g). \n",
        "# En este ejemplo, se renderiza este .dot usando el paquete graphviz.\n",
        "visualiza_grafo_graphviz(grafo)"
      ]
    },
    {
      "cell_type": "code",
      "execution_count": null,
      "id": "59d8d28a",
      "metadata": {
        "id": "59d8d28a"
      },
      "outputs": [],
      "source": [
        "# Se utiliza el paquete pyvis\n",
        "visualiza_grafo_pyvis(grafo,'grafo.html')"
      ]
    },
    {
      "cell_type": "markdown",
      "id": "f3e3b6f2",
      "metadata": {
        "id": "f3e3b6f2"
      },
      "source": [
        "# Análisis del grafo\n",
        "En la [referencia de NetworkX](https://networkx.org/documentation/stable/reference/index.html) además de las funciones básicas descriptivas en [Functions](https://networkx.org/documentation/stable/reference/functions.html), se encuentran algoritmos de cálculos más avanzados en [Algorithms](https://networkx.org/documentation/stable/reference/algorithms/index.html) y [Linear Algebra](https://networkx.org/documentation/stable/reference/linalg.html)."
      ]
    },
    {
      "cell_type": "markdown",
      "id": "ea585333",
      "metadata": {
        "id": "ea585333"
      },
      "source": [
        "En este ejemplo, se procede a detectar:\n",
        "+ La lista de nodos con mayor grado (grado_entrada + grado_salida)\n",
        "+ Los nodos predecesores y sucesores de todos ellos\n",
        "+ Y se acota el subgrafo que tiene todos esos nodos y mantiene todas las aristas entre ellos"
      ]
    },
    {
      "cell_type": "code",
      "execution_count": null,
      "id": "532745bb",
      "metadata": {
        "id": "532745bb"
      },
      "outputs": [],
      "source": [
        "nodos_max = nodos_grado_max(grafo)\n",
        "predecesores = predecesores_nodos(grafo, nodos_max)\n",
        "sucesores = sucesores_nodos(grafo, nodos_max)\n",
        "\n",
        "print(f'Nodos con mayor grado: {nodos_max}')\n",
        "print(f'Precedidos en el digrafo por {predecesores}')\n",
        "print(f'Sucedidos en el digrafo por {sucesores}')"
      ]
    },
    {
      "cell_type": "code",
      "execution_count": null,
      "id": "af9412dc",
      "metadata": {
        "id": "af9412dc"
      },
      "outputs": [],
      "source": [
        "# Subgrafo producido por nodos con grado máximo, junto a predecesores y sucesores\n",
        "subgrafo_nodos_max = subgrafo_nodos(grafo,nodos_max)\n",
        "subgrafo_nodos_max.edges()"
      ]
    },
    {
      "cell_type": "code",
      "execution_count": null,
      "id": "2d3f7a17",
      "metadata": {
        "id": "2d3f7a17"
      },
      "outputs": [],
      "source": [
        "visualiza_grafo_graphviz(subgrafo_nodos_max)"
      ]
    },
    {
      "cell_type": "markdown",
      "id": "4e5a3077",
      "metadata": {
        "id": "4e5a3077"
      },
      "source": [
        "# Referencias"
      ]
    },
    {
      "cell_type": "markdown",
      "id": "ce437ce8",
      "metadata": {
        "id": "ce437ce8"
      },
      "source": [
        "**Cuadernos Colab**. Si se ejecutan consultas en Google del tipo `término(s) site:colab.research.google.com` con `término`como _'networkx'_ o _'social network'_, se pueden encontrar otros cuadernos ejecutables relacionados.\n",
        "+ [tutorial_networkx.ipynb](https://www.google.com/url?sa=t&rct=j&q=&esrc=s&source=web&cd=&ved=2ahUKEwjelb7qvdn8AhUDgP0HHUSKCbIQFnoECA8QAQ&url=https%3A%2F%2Fcolab.research.google.com%2Fdrive%2F1m4OKhgu9InS4RL-foL8NFdj16NNriJ3H&usg=AOvVaw03i9_MTALR58Gz4hiX8Moy)\n",
        "+ [networkx.ipynb](https://www.google.com/url?sa=t&rct=j&q=&esrc=s&source=web&cd=&ved=2ahUKEwjelb7qvdn8AhUDgP0HHUSKCbIQFnoECB4QAQ&url=https%3A%2F%2Fcolab.research.google.com%2Fgithub%2Fcaam37830%2Fbook%2Fblob%2Fmaster%2F05_graphs%2Fnetworkx.ipynb&usg=AOvVaw2cPctpkulG52Y9l7opZacK)\n",
        "+ [comparativeAnalysis.ipynb](https://www.google.com/url?sa=t&rct=j&q=&esrc=s&source=web&cd=&ved=2ahUKEwiin4WbwNn8AhXCi_0HHTu_AbQQFnoECBwQAQ&url=https%3A%2F%2Fcolab.research.google.com%2Fgithub%2FZhihaoDC%2FTFG%2Fblob%2Fmain%2Fsource%2FcomparativeAnalysis.ipynb&usg=AOvVaw2zcM4C1CKcCnkuWfoebWMZ)\n",
        "\n",
        "**Datasets de ejemplo en Networkx**. Hay conjuntos de datos citados en la referencia de Networkx para experimentar. Entre otros, [Words/Ladder Graph](https://networkx.org/documentation/stable/auto_examples/graph/plot_words.html), [Karate club](https://networkx.org/documentation/stable/auto_examples/graph/plot_karate_club.html), [Football](https://networkx.org/documentation/stable/auto_examples/graph/plot_football.html), [Les Miserables](https://networkx.org/documentation/stable/reference/generated/networkx.generators.social.les_miserables_graph.html), [Florentine families](https://networkx.org/documentation/stable/reference/generated/networkx.generators.social.florentine_families_graph.html) o [Southern families](https://networkx.org/documentation/stable/reference/generated/networkx.generators.social.davis_southern_women_graph.html)."
      ]
    }
  ],
  "metadata": {
    "kernelspec": {
      "display_name": "Python 3 (ipykernel)",
      "language": "python",
      "name": "python3"
    },
    "language_info": {
      "codemirror_mode": {
        "name": "ipython",
        "version": 3
      },
      "file_extension": ".py",
      "mimetype": "text/x-python",
      "name": "python",
      "nbconvert_exporter": "python",
      "pygments_lexer": "ipython3",
      "version": "3.9.12"
    },
    "colab": {
      "provenance": [],
      "toc_visible": true
    }
  },
  "nbformat": 4,
  "nbformat_minor": 5
}